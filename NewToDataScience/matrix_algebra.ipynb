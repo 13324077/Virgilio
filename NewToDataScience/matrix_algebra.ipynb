{
 "cells": [
  {
   "cell_type": "markdown",
   "metadata": {},
   "source": [
    "# Matrix Algebra,\n",
    "\n",
    "## A first introduction from the computational standpoint\n",
    "\n",
    "This notebook is part of the [Virgilio project](https://github.com/clone95/Virgilio) and serves as a first introduction to matrices and how they work. You are welcome to read this at any level of knowledge, but I would recommend it to people who\n",
    "\n",
    " - want to see how matrices work\n",
    " - want to implement a basic Python library to deal with matrices\n",
    " - have already dealt with matrices but need a refresher\n",
    " \n",
    "Conversely, I would not classify this as the best resource for you if\n",
    "\n",
    " - you want to learn the deep insights of how matrices work and why they work the way they do\n",
    " - you want to get a nice knowledge of linear algebra: matrices are just a part of linear algebra, not the whole thing!\n",
    " \n",
    "This guide is broken down in several sections, as you can see from the following index:\n",
    "\n",
    " - [Further reading](#Further-reading)\n",
    " - [What is a matrix?](#What-is-a-matrix?)\n",
    " - [Arithmetics with matrices](#Arithmetics-with-matrices)\n",
    "   - [Addition and subtraction](#Addition-and-subtraction)\n",
    "   - [Multiplication](#Multiplication)\n",
    "   - [Division..???](#Division,.???)\n",
    " - [Inverse](#Inverse)\n",
    "   - [Determinant](#Determinant)\n",
    " - [Transpose](#Transpose)\n",
    " - [Linear systems](#Linear-systems)\n",
    "   - [Gaussian elimination](#Gaussian-elimination)"
   ]
  },
  {
   "cell_type": "markdown",
   "metadata": {},
   "source": [
    "## Further reading\n",
    "\n",
    "Usually the _Further reading_ section comes in the end... I decided to include it in the beginning because you may find it better to first read something more general or beginner friendly and then read this, as the focus of this document will be implementing the usual matrix operations.\n",
    "\n",
    "If you just want to know what a matrix is, you can check [Wikipedia's article](https://en.wikipedia.org/wiki/Matrix_(mathematics)) on matrices. If you are interested in the definition of matrix from a linear algebra standpoint, you can [check it](http://mathworld.wolfram.com/Matrix.html) on WolframAlpha's website; if you scroll down there is a **SEE ALSO** section that will point you to lots of interesting things.\n",
    "\n",
    "If you are confused about linear algebra and working with matrices, at the time of writing (28/04/2019) the top 3 answers of [this MO question](https://mathoverflow.net/questions/11669/what-is-the-difference-between-matrix-theory-and-linear-algebra) are quite enlightening. In particular, [this answer](https://mathoverflow.net/a/11679) contains the following excerpt:\n",
    " > [...] A matrix is just a list of numbers, and you're allowed to add and multiply matrices by combining those numbers in a certain way. [...]  You can do lots of interesting numerical things with matrices, and these interesting numerical things are very important because matrices show up a lot in engineering and the sciences.\n",
    " > In linear algebra, however, you instead talk about linear transformations, which are not (I cannot emphasize this enough) a list of numbers, although sometimes it is convenient to use a particular matrix to write down a linear transformation.\n",
    " \n",
    "[The third answer](https://mathoverflow.net/a/19884) contains a quotation from a mathematician, regarding the fact that matrices are usually used as a tool for linear algebra:\n",
    " > \"There is hardly any theory which is more elementary [than linear algebra], in spite of the fact that generations of professors and textbook writers have obscured its simplicity by preposterous calculations with matrices.\"\n",
    " \n",
    "And [this answer](https://mathoverflow.net/a/19923) includes yet another quotation, where a mathematician confesses that even though matrices are just tools of linear algebra, they are quite useful:\n",
    " > \"We share a philosophy about linear algebra: we think basis-free, we write basis-free, but when the chips are down we close the office door and compute with matrices like fury.\"\n",
    " \n",
    "Either way, even if you do or do not understand what is being exposed on the previous excerpts, [KhanAcademy](https://www.khanacademy.org/math/linear-algebra) has a short course on Linear Algebra, which is coupled with an intro to matrices. (For those of you who don't know KhanAcademy, I highly recommend it; it is one of my favourite e-learning resources.) The Youtube channel [3blue1brown](https://www.youtube.com/channel/UCYO_jab_esuFRV4b17AJtAw) also has a [nice series on Linear Algebra](https://www.3blue1brown.com/essence-of-linear-algebra-page) with every single concept explained visually.\n",
    "\n",
    "Lastly, Reddit's [/r/learnmath](https://www.reddit.com/r/learnmath/) subreddit has a post with a [very nice collection](https://www.reddit.com/r/learnmath/comments/8p922p/list_of_websites_ebooks_downloads_etc_for_mobile/) of resources, among them resources for Linear Algebra."
   ]
  },
  {
   "cell_type": "markdown",
   "metadata": {},
   "source": [
    "## What is a matrix?\n",
    "\n",
    "Bluntly put, a matrix is a table of numbers, arranged in rows and columns:\n",
    "\n",
    "$$\\begin{bmatrix} 1 & 2 \\\\ 3 & 4 \\end{bmatrix}$$\n",
    "\n",
    "You can also see them represented as\n",
    "\n",
    "$$\\begin{pmatrix} 1 & 2 \\\\ 3 & 4 \\end{pmatrix}$$\n",
    "\n",
    "and using parenthesis or brackets is up to your personal taste, but please refrain from writing matrices as\n",
    "\n",
    "$$\\begin{vmatrix} 1 & 2 \\\\ 3 & 4 \\end{vmatrix}$$\n",
    "\n",
    "as those vertical bars have a special meaning."
   ]
  },
  {
   "cell_type": "markdown",
   "metadata": {},
   "source": [
    "## Arithmetics with matrices\n",
    "\n",
    "### Addition and subtraction"
   ]
  },
  {
   "cell_type": "markdown",
   "metadata": {},
   "source": [
    "### Multiplication"
   ]
  },
  {
   "cell_type": "markdown",
   "metadata": {},
   "source": [
    "### Division..???"
   ]
  },
  {
   "cell_type": "markdown",
   "metadata": {},
   "source": [
    "## Inverse"
   ]
  },
  {
   "cell_type": "markdown",
   "metadata": {},
   "source": [
    "### Determinant"
   ]
  },
  {
   "cell_type": "markdown",
   "metadata": {},
   "source": [
    "## Transpose"
   ]
  },
  {
   "cell_type": "markdown",
   "metadata": {},
   "source": [
    "## Linear systems"
   ]
  },
  {
   "cell_type": "markdown",
   "metadata": {},
   "source": [
    "### Gaussian elimination"
   ]
  },
  {
   "cell_type": "markdown",
   "metadata": {},
   "source": [
    "---\n",
    "\n",
    "If you enjoyed this guide and/or it was useful, consider leaving a star in the [Virgilio repository](https://github.com/clone95/Virgilio) and sharing it with your friends!\n",
    "\n",
    "This was brought to you by the editor of the [Mathspp Blog](https://mathspp.blogspot.com/) (or [Mathspp on Facebook](https://www.facebook.com/mathspp/)), [cccRojerGS](https://github.com/RojerGS)."
   ]
  }
 ],
 "metadata": {
  "kernelspec": {
   "display_name": "Python 3",
   "language": "python",
   "name": "python3"
  },
  "language_info": {
   "codemirror_mode": {
    "name": "ipython",
    "version": 3
   },
   "file_extension": ".py",
   "mimetype": "text/x-python",
   "name": "python",
   "nbconvert_exporter": "python",
   "pygments_lexer": "ipython3",
   "version": "3.7.1"
  }
 },
 "nbformat": 4,
 "nbformat_minor": 2
}
