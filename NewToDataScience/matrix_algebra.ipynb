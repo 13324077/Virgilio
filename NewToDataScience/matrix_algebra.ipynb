{
 "cells": [
  {
   "cell_type": "markdown",
   "metadata": {},
   "source": [
    "# Matrix Algebra,\n",
    "\n",
    "## A first introduction from the computational standpoint\n",
    "\n",
    "This notebook is part of the [Virgilio project](https://github.com/clone95/Virgilio) and serves as a first introduction to matrices and how they work. You are welcome to read this at any level of knowledge, but I would recommend it to people who\n",
    "\n",
    " - want to see how matrices work\n",
    " - want to implement a basic Python library to deal with matrices\n",
    " - have already dealt with matrices but need a refresher\n",
    " \n",
    "Conversely, I would not classify this as the best resource for you if\n",
    "\n",
    " - you want to learn the deep insights of how matrices work and why they work the way they do\n",
    " - you want to get a nice knowledge of linear algebra: matrices are just a part of linear algebra, not the whole thing!\n",
    " \n",
    "This guide is broken down in several sections, as you can see from the following index:\n",
    "\n",
    " - [Further reading](#Further-reading)\n",
    " - [What is a matrix?](#What-is-a-matrix?)\n",
    " - [Arithmetics with matrices](#Arithmetics-with-matrices)\n",
    "   - [Addition and subtraction](#Addition-and-subtraction)\n",
    "   - [Multiplication](#Multiplication)\n",
    "   - [Division..???](#Division,.???)\n",
    " - [Inverse](#Inverse)\n",
    " - [Transpose](#Transpose)"
   ]
  },
  {
   "cell_type": "markdown",
   "metadata": {},
   "source": [
    "## Further reading"
   ]
  },
  {
   "cell_type": "markdown",
   "metadata": {},
   "source": [
    "## What is a matrix?"
   ]
  },
  {
   "cell_type": "markdown",
   "metadata": {},
   "source": [
    "## Arithmetics with matrices\n",
    "\n",
    "### Addition and subtraction"
   ]
  },
  {
   "cell_type": "markdown",
   "metadata": {},
   "source": [
    "### Multiplication"
   ]
  },
  {
   "cell_type": "markdown",
   "metadata": {},
   "source": [
    "### Division..???"
   ]
  },
  {
   "cell_type": "markdown",
   "metadata": {},
   "source": [
    "## Inverse"
   ]
  },
  {
   "cell_type": "markdown",
   "metadata": {},
   "source": [
    "## Transpose"
   ]
  },
  {
   "cell_type": "code",
   "execution_count": null,
   "metadata": {},
   "outputs": [],
   "source": []
  }
 ],
 "metadata": {
  "kernelspec": {
   "display_name": "Python 3",
   "language": "python",
   "name": "python3"
  },
  "language_info": {
   "codemirror_mode": {
    "name": "ipython",
    "version": 3
   },
   "file_extension": ".py",
   "mimetype": "text/x-python",
   "name": "python",
   "nbconvert_exporter": "python",
   "pygments_lexer": "ipython3",
   "version": "3.7.1"
  }
 },
 "nbformat": 4,
 "nbformat_minor": 2
}
